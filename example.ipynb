{
 "cells": [
  {
   "cell_type": "code",
   "execution_count": 1,
   "metadata": {
    "gradient": {}
   },
   "outputs": [],
   "source": [
    "#hide\n",
    "!pip install -Uqq fastbook\n",
    "import fastbook\n",
    "fastbook.setup_book()\n",
    "\n",
    "from fastai.vision.all import *\n",
    "from fastbook import *\n",
    "\n",
    "matplotlib.rc('image', cmap='Greys')"
   ]
  },
  {
   "cell_type": "code",
   "execution_count": 2,
   "metadata": {
    "gradient": {}
   },
   "outputs": [
    {
     "data": {
      "text/plain": [
       "(#2) [Path('/storage/data/mnist_png/training'),Path('/storage/data/mnist_png/testing')]"
      ]
     },
     "execution_count": 2,
     "metadata": {},
     "output_type": "execute_result"
    }
   ],
   "source": [
    "mnist = Path('/storage/data/mnist_png')\n",
    "mnist.ls()"
   ]
  },
  {
   "cell_type": "code",
   "execution_count": 3,
   "metadata": {
    "gradient": {}
   },
   "outputs": [],
   "source": [
    "# Convert all images in a directory to [0,1] tensors and stack them\n",
    "def stackImages( path ):\n",
    "    return torch.stack([tensor(Image.open(o)) for o in path.ls()]).float()/255"
   ]
  },
  {
   "cell_type": "code",
   "execution_count": 4,
   "metadata": {},
   "outputs": [],
   "source": [
    "def loadStacks( path ):\n",
    "    stacks = torch.cat([stackImages(folder) for folder in path.ls()])\n",
    "    labels = [tensor([int(folder.name)]*len(folder.ls())) for folder in (mnist/'training').ls()]\n",
    "    return list(zip(stacks.view(-1,28*28), nn.functional.one_hot(torch.cat(labels))))"
   ]
  },
  {
   "cell_type": "code",
   "execution_count": 5,
   "metadata": {
    "gradient": {}
   },
   "outputs": [],
   "source": [
    "def getLoaders( path, batch_size=256 ):\n",
    "    train = DataLoader( loadStacks(path/'training'), batch_size, shuffle=True )\n",
    "    valid = DataLoader( loadStacks(path/'testing'), batch_size, shuffle=True  )\n",
    "    return train, valid"
   ]
  },
  {
   "cell_type": "code",
   "execution_count": 6,
   "metadata": {
    "gradient": {}
   },
   "outputs": [],
   "source": [
    "train_dl, valid_dl = getLoaders( mnist )"
   ]
  },
  {
   "cell_type": "code",
   "execution_count": 7,
   "metadata": {
    "gradient": {}
   },
   "outputs": [
    {
     "data": {
      "text/plain": [
       "<fastai.data.core.DataLoaders at 0x7f4c38dfd7f0>"
      ]
     },
     "execution_count": 7,
     "metadata": {},
     "output_type": "execute_result"
    }
   ],
   "source": [
    "dls = DataLoaders(train_dl, valid_dl)\n",
    "dls"
   ]
  },
  {
   "cell_type": "code",
   "execution_count": 8,
   "metadata": {
    "gradient": {}
   },
   "outputs": [],
   "source": [
    "simple_net = nn.Sequential(\n",
    "    nn.Linear(28*28,30),\n",
    "    nn.ReLU(),\n",
    "    nn.Linear(30,10),\n",
    "    nn.Softmax(dim=1)\n",
    ")"
   ]
  },
  {
   "cell_type": "code",
   "execution_count": 9,
   "metadata": {},
   "outputs": [],
   "source": [
    "printDebug = True"
   ]
  },
  {
   "cell_type": "code",
   "execution_count": 10,
   "metadata": {
    "gradient": {}
   },
   "outputs": [],
   "source": [
    "def mnist_loss(predictions, targets):\n",
    "    return torch.where(targets==1, 1-predictions, predictions).mean()"
   ]
  },
  {
   "cell_type": "code",
   "execution_count": 11,
   "metadata": {},
   "outputs": [],
   "source": [
    "def batch_accuracy(xb, yb):\n",
    "    temp = (xb.argmax(1) == yb.argmax(1)).float()\n",
    "    if( printDebug == True ):\n",
    "        print( f'batch acurracy: {temp.sum()}/{len(yb)} = {temp.mean()}')\n",
    "    return temp.mean()"
   ]
  },
  {
   "cell_type": "code",
   "execution_count": 12,
   "metadata": {},
   "outputs": [],
   "source": [
    "batch = dls.one_batch()"
   ]
  },
  {
   "cell_type": "markdown",
   "metadata": {},
   "source": [
    "Make sure the data and label are lining up properly"
   ]
  },
  {
   "cell_type": "code",
   "execution_count": 13,
   "metadata": {},
   "outputs": [
    {
     "data": {
      "text/plain": [
       "(<AxesSubplot:>, tensor(8))"
      ]
     },
     "execution_count": 13,
     "metadata": {},
     "output_type": "execute_result"
    },
    {
     "data": {
      "image/png": "[encoded data removed]",
      "text/plain": [
       "<Figure size 72x72 with 1 Axes>"
      ]
     },
     "metadata": {
      "needs_background": "light"
     },
     "output_type": "display_data"
    }
   ],
   "source": [
    "show_image(batch[0][1].view(28,28)), batch[1][1].argmax(-1)"
   ]
  },
  {
   "cell_type": "markdown",
   "metadata": {},
   "source": [
    "Try our accuracy function before training"
   ]
  },
  {
   "cell_type": "code",
   "execution_count": 14,
   "metadata": {},
   "outputs": [
    {
     "name": "stdout",
     "output_type": "stream",
     "text": [
      "batch acurracy: 24.0/256 = 0.09375\n"
     ]
    },
    {
     "data": {
      "text/plain": [
       "tensor(0.0938)"
      ]
     },
     "execution_count": 14,
     "metadata": {},
     "output_type": "execute_result"
    }
   ],
   "source": [
    "batch_accuracy( simple_net(batch[0]), batch[1] )"
   ]
  },
  {
   "cell_type": "markdown",
   "metadata": {},
   "source": [
    "Manually compare the first batch to get an idea of how things are looking"
   ]
  },
  {
   "cell_type": "code",
   "execution_count": 15,
   "metadata": {},
   "outputs": [
    {
     "data": {
      "text/plain": [
       "(tensor([0, 7, 7, 7, 7, 7, 7, 7, 7, 7, 7, 7, 7, 7, 7, 7, 7, 7, 3, 0, 7, 7, 0, 7, 7, 7, 0, 7, 7, 7, 7, 7, 0, 7, 7, 7, 7, 7, 7, 0, 7, 7, 7, 7, 7, 7, 7, 0, 7, 7, 7, 7, 7, 7, 7, 0, 7, 7, 7, 7, 7, 7, 7, 0,\n",
       "         7, 0, 0, 7, 7, 7, 7, 7, 7, 7, 7, 7, 7, 7, 4, 7, 7, 7, 7, 7, 7, 0, 7, 7, 7, 7, 7, 7, 7, 7, 7, 7, 7, 0, 7, 7, 7, 0, 7, 7, 0, 7, 0, 7, 7, 7, 7, 7, 7, 7, 0, 7, 7, 7, 7, 7, 7, 7, 7, 7, 7, 7, 7, 7,\n",
       "         7, 7, 7, 7, 7, 7, 0, 7, 0, 7, 7, 0, 7, 7, 7, 7, 7, 0, 7, 7, 7, 0, 7, 3, 7, 7, 7, 7, 7, 7, 7, 0, 7, 7, 7, 7, 7, 7, 7, 7, 7, 7, 7, 7, 7, 7, 7, 7, 7, 7, 7, 7, 7, 7, 7, 7, 0, 7, 7, 7, 7, 7, 7, 7,\n",
       "         7, 7, 7, 7, 7, 7, 7, 7, 0, 7, 7, 7, 0, 0, 7, 0, 7, 7, 7, 0, 7, 7, 7, 7, 7, 7, 7, 3, 0, 0, 7, 7, 7, 7, 7, 7, 6, 7, 7, 7, 7, 7, 7, 0, 7, 7, 7, 7, 7, 7, 7, 7, 0, 7, 7, 7, 7, 7, 7, 7, 7, 7, 7, 0]),\n",
       " tensor([7, 8, 1, 8, 5, 2, 6, 1, 3, 8, 2, 1, 0, 5, 5, 2, 2, 2, 6, 6, 9, 8, 0, 0, 4, 2, 7, 6, 3, 5, 0, 6, 7, 4, 1, 1, 1, 2, 2, 7, 1, 1, 1, 3, 5, 4, 1, 7, 2, 2, 8, 3, 2, 1, 2, 9, 6, 3, 8, 8, 2, 8, 5, 6,\n",
       "         3, 7, 0, 7, 1, 7, 1, 4, 6, 4, 1, 3, 2, 8, 6, 8, 1, 6, 7, 2, 0, 9, 3, 7, 1, 2, 1, 7, 8, 4, 3, 7, 3, 0, 4, 1, 3, 6, 5, 4, 6, 0, 2, 7, 9, 9, 6, 3, 7, 3, 7, 9, 4, 6, 6, 5, 1, 0, 8, 2, 9, 0, 1, 8,\n",
       "         1, 6, 3, 3, 4, 5, 6, 1, 9, 3, 2, 5, 8, 3, 2, 5, 3, 9, 6, 1, 6, 7, 1, 8, 8, 5, 2, 5, 1, 0, 2, 5, 5, 3, 1, 5, 4, 3, 4, 0, 4, 3, 6, 5, 5, 7, 1, 2, 1, 5, 8, 3, 7, 2, 4, 2, 7, 2, 0, 6, 9, 6, 2, 7,\n",
       "         8, 0, 4, 5, 5, 7, 5, 8, 6, 3, 2, 9, 0, 0, 9, 5, 2, 9, 8, 0, 5, 0, 9, 6, 7, 3, 3, 7, 9, 4, 5, 5, 0, 1, 9, 2, 3, 7, 9, 2, 5, 7, 3, 2, 5, 7, 1, 8, 7, 3, 5, 0, 7, 3, 5, 9, 0, 9, 0, 2, 7, 3, 6, 6]))"
      ]
     },
     "execution_count": 15,
     "metadata": {},
     "output_type": "execute_result"
    }
   ],
   "source": [
    "simple_net( batch[0] ).argmax(1),batch[1].argmax(1)"
   ]
  },
  {
   "cell_type": "markdown",
   "metadata": {},
   "source": [
    "I was unable to find the proper syntax to use a BasicOptimizer instead of SGD so i'm not able to debug what's happening in SGD. My uneducated guess is that back propagation changes aren't being saved for some reason"
   ]
  },
  {
   "cell_type": "code",
   "execution_count": 16,
   "metadata": {
    "gradient": {}
   },
   "outputs": [],
   "source": [
    "learn = Learner(dls, simple_net, opt_func=SGD,\n",
    "                loss_func=mnist_loss, metrics=batch_accuracy)"
   ]
  },
  {
   "cell_type": "code",
   "execution_count": 17,
   "metadata": {},
   "outputs": [
    {
     "data": {
      "text/html": [],
      "text/plain": [
       "<IPython.core.display.HTML object>"
      ]
     },
     "metadata": {},
     "output_type": "display_data"
    },
    {
     "data": {
      "text/plain": [
       "SuggestedLRs(lr_min=0.33113112449646, lr_steep=2.7542285919189453)"
      ]
     },
     "execution_count": 17,
     "metadata": {},
     "output_type": "execute_result"
    },
    {
     "data": {
      "image/png": "[encoded data removed]",
      "text/plain": [
       "<Figure size 432x288 with 1 Axes>"
      ]
     },
     "metadata": {
      "needs_background": "light"
     },
     "output_type": "display_data"
    }
   ],
   "source": [
    "lr = learn.lr_find()\n",
    "lr"
   ]
  },
  {
   "cell_type": "markdown",
   "metadata": {},
   "source": [
    "Run a few learning steps, batch accuracy has a debug statement printing each result, this can be disabled with the following:"
   ]
  },
  {
   "cell_type": "code",
   "execution_count": 18,
   "metadata": {},
   "outputs": [],
   "source": [
    "#printDebug = False"
   ]
  },
  {
   "cell_type": "code",
   "execution_count": 19,
   "metadata": {
    "gradient": {},
    "scrolled": false
   },
   "outputs": [
    {
     "data": {
      "text/html": [
       "<table border=\"1\" class=\"dataframe\">\n",
       "  <thead>\n",
       "    <tr style=\"text-align: left;\">\n",
       "      <th>epoch</th>\n",
       "      <th>train_loss</th>\n",
       "      <th>valid_loss</th>\n",
       "      <th>batch_accuracy</th>\n",
       "      <th>time</th>\n",
       "    </tr>\n",
       "  </thead>\n",
       "  <tbody>\n",
       "    <tr>\n",
       "      <td>0</td>\n",
       "      <td>0.052997</td>\n",
       "      <td>0.198727</td>\n",
       "      <td>0.006100</td>\n",
       "      <td>00:02</td>\n",
       "    </tr>\n",
       "    <tr>\n",
       "      <td>1</td>\n",
       "      <td>0.038955</td>\n",
       "      <td>0.199070</td>\n",
       "      <td>0.004700</td>\n",
       "      <td>00:01</td>\n",
       "    </tr>\n",
       "    <tr>\n",
       "      <td>2</td>\n",
       "      <td>0.035937</td>\n",
       "      <td>0.199330</td>\n",
       "      <td>0.003300</td>\n",
       "      <td>00:01</td>\n",
       "    </tr>\n",
       "    <tr>\n",
       "      <td>3</td>\n",
       "      <td>0.034542</td>\n",
       "      <td>0.199190</td>\n",
       "      <td>0.003800</td>\n",
       "      <td>00:01</td>\n",
       "    </tr>\n",
       "  </tbody>\n",
       "</table>"
      ],
      "text/plain": [
       "<IPython.core.display.HTML object>"
      ]
     },
     "metadata": {},
     "output_type": "display_data"
    },
    {
     "name": "stdout",
     "output_type": "stream",
     "text": [
      "batch acurracy: 2.0/256 = 0.0078125\n",
      "batch acurracy: 2.0/256 = 0.0078125\n",
      "batch acurracy: 3.0/256 = 0.01171875\n",
      "batch acurracy: 0.0/256 = 0.0\n",
      "batch acurracy: 3.0/256 = 0.01171875\n",
      "batch acurracy: 1.0/256 = 0.00390625\n",
      "batch acurracy: 1.0/256 = 0.00390625\n",
      "batch acurracy: 1.0/256 = 0.00390625\n",
      "batch acurracy: 3.0/256 = 0.01171875\n",
      "batch acurracy: 0.0/256 = 0.0\n",
      "batch acurracy: 0.0/256 = 0.0\n",
      "batch acurracy: 1.0/256 = 0.00390625\n",
      "batch acurracy: 4.0/256 = 0.015625\n",
      "batch acurracy: 2.0/256 = 0.0078125\n",
      "batch acurracy: 3.0/256 = 0.01171875\n",
      "batch acurracy: 1.0/256 = 0.00390625\n",
      "batch acurracy: 0.0/256 = 0.0\n",
      "batch acurracy: 1.0/256 = 0.00390625\n",
      "batch acurracy: 2.0/256 = 0.0078125\n",
      "batch acurracy: 2.0/256 = 0.0078125\n",
      "batch acurracy: 1.0/256 = 0.00390625\n",
      "batch acurracy: 2.0/256 = 0.0078125\n",
      "batch acurracy: 0.0/256 = 0.0\n",
      "batch acurracy: 3.0/256 = 0.01171875\n",
      "batch acurracy: 3.0/256 = 0.01171875\n",
      "batch acurracy: 1.0/256 = 0.00390625\n",
      "batch acurracy: 0.0/256 = 0.0\n",
      "batch acurracy: 0.0/256 = 0.0\n",
      "batch acurracy: 2.0/256 = 0.0078125\n",
      "batch acurracy: 2.0/256 = 0.0078125\n",
      "batch acurracy: 3.0/256 = 0.01171875\n",
      "batch acurracy: 2.0/256 = 0.0078125\n",
      "batch acurracy: 5.0/256 = 0.01953125\n",
      "batch acurracy: 1.0/256 = 0.00390625\n",
      "batch acurracy: 1.0/256 = 0.00390625\n",
      "batch acurracy: 2.0/256 = 0.0078125\n",
      "batch acurracy: 0.0/256 = 0.0\n",
      "batch acurracy: 1.0/256 = 0.00390625\n",
      "batch acurracy: 0.0/256 = 0.0\n",
      "batch acurracy: 0.0/16 = 0.0\n",
      "batch acurracy: 0.0/256 = 0.0\n",
      "batch acurracy: 2.0/256 = 0.0078125\n",
      "batch acurracy: 0.0/256 = 0.0\n",
      "batch acurracy: 0.0/256 = 0.0\n",
      "batch acurracy: 2.0/256 = 0.0078125\n",
      "batch acurracy: 5.0/256 = 0.01953125\n",
      "batch acurracy: 1.0/256 = 0.00390625\n",
      "batch acurracy: 4.0/256 = 0.015625\n",
      "batch acurracy: 2.0/256 = 0.0078125\n",
      "batch acurracy: 1.0/256 = 0.00390625\n",
      "batch acurracy: 2.0/256 = 0.0078125\n",
      "batch acurracy: 1.0/256 = 0.00390625\n",
      "batch acurracy: 1.0/256 = 0.00390625\n",
      "batch acurracy: 2.0/256 = 0.0078125\n",
      "batch acurracy: 1.0/256 = 0.00390625\n",
      "batch acurracy: 1.0/256 = 0.00390625\n",
      "batch acurracy: 1.0/256 = 0.00390625\n",
      "batch acurracy: 0.0/256 = 0.0\n",
      "batch acurracy: 0.0/256 = 0.0\n",
      "batch acurracy: 1.0/256 = 0.00390625\n",
      "batch acurracy: 1.0/256 = 0.00390625\n",
      "batch acurracy: 1.0/256 = 0.00390625\n",
      "batch acurracy: 4.0/256 = 0.015625\n",
      "batch acurracy: 0.0/256 = 0.0\n",
      "batch acurracy: 2.0/256 = 0.0078125\n",
      "batch acurracy: 1.0/256 = 0.00390625\n",
      "batch acurracy: 2.0/256 = 0.0078125\n",
      "batch acurracy: 2.0/256 = 0.0078125\n",
      "batch acurracy: 0.0/256 = 0.0\n",
      "batch acurracy: 0.0/256 = 0.0\n",
      "batch acurracy: 0.0/256 = 0.0\n",
      "batch acurracy: 0.0/256 = 0.0\n",
      "batch acurracy: 2.0/256 = 0.0078125\n",
      "batch acurracy: 1.0/256 = 0.00390625\n",
      "batch acurracy: 1.0/256 = 0.00390625\n",
      "batch acurracy: 0.0/256 = 0.0\n",
      "batch acurracy: 0.0/256 = 0.0\n",
      "batch acurracy: 1.0/256 = 0.00390625\n",
      "batch acurracy: 2.0/256 = 0.0078125\n",
      "batch acurracy: 0.0/16 = 0.0\n",
      "batch acurracy: 0.0/256 = 0.0\n",
      "batch acurracy: 0.0/256 = 0.0\n",
      "batch acurracy: 0.0/256 = 0.0\n",
      "batch acurracy: 0.0/256 = 0.0\n",
      "batch acurracy: 0.0/256 = 0.0\n",
      "batch acurracy: 1.0/256 = 0.00390625\n",
      "batch acurracy: 1.0/256 = 0.00390625\n",
      "batch acurracy: 0.0/256 = 0.0\n",
      "batch acurracy: 0.0/256 = 0.0\n",
      "batch acurracy: 0.0/256 = 0.0\n",
      "batch acurracy: 1.0/256 = 0.00390625\n",
      "batch acurracy: 0.0/256 = 0.0\n",
      "batch acurracy: 2.0/256 = 0.0078125\n",
      "batch acurracy: 1.0/256 = 0.00390625\n",
      "batch acurracy: 2.0/256 = 0.0078125\n",
      "batch acurracy: 1.0/256 = 0.00390625\n",
      "batch acurracy: 4.0/256 = 0.015625\n",
      "batch acurracy: 0.0/256 = 0.0\n",
      "batch acurracy: 1.0/256 = 0.00390625\n",
      "batch acurracy: 0.0/256 = 0.0\n",
      "batch acurracy: 2.0/256 = 0.0078125\n",
      "batch acurracy: 0.0/256 = 0.0\n",
      "batch acurracy: 0.0/256 = 0.0\n",
      "batch acurracy: 0.0/256 = 0.0\n",
      "batch acurracy: 0.0/256 = 0.0\n",
      "batch acurracy: 1.0/256 = 0.00390625\n",
      "batch acurracy: 2.0/256 = 0.0078125\n",
      "batch acurracy: 0.0/256 = 0.0\n",
      "batch acurracy: 0.0/256 = 0.0\n",
      "batch acurracy: 2.0/256 = 0.0078125\n",
      "batch acurracy: 1.0/256 = 0.00390625\n",
      "batch acurracy: 1.0/256 = 0.00390625\n",
      "batch acurracy: 1.0/256 = 0.00390625\n",
      "batch acurracy: 1.0/256 = 0.00390625\n",
      "batch acurracy: 1.0/256 = 0.00390625\n",
      "batch acurracy: 3.0/256 = 0.01171875\n",
      "batch acurracy: 1.0/256 = 0.00390625\n",
      "batch acurracy: 1.0/256 = 0.00390625\n",
      "batch acurracy: 2.0/256 = 0.0078125\n",
      "batch acurracy: 0.0/16 = 0.0\n",
      "batch acurracy: 1.0/256 = 0.00390625\n",
      "batch acurracy: 1.0/256 = 0.00390625\n",
      "batch acurracy: 1.0/256 = 0.00390625\n",
      "batch acurracy: 3.0/256 = 0.01171875\n",
      "batch acurracy: 3.0/256 = 0.01171875\n",
      "batch acurracy: 1.0/256 = 0.00390625\n",
      "batch acurracy: 0.0/256 = 0.0\n",
      "batch acurracy: 0.0/256 = 0.0\n",
      "batch acurracy: 2.0/256 = 0.0078125\n",
      "batch acurracy: 2.0/256 = 0.0078125\n",
      "batch acurracy: 0.0/256 = 0.0\n",
      "batch acurracy: 0.0/256 = 0.0\n",
      "batch acurracy: 1.0/256 = 0.00390625\n",
      "batch acurracy: 1.0/256 = 0.00390625\n",
      "batch acurracy: 3.0/256 = 0.01171875\n",
      "batch acurracy: 2.0/256 = 0.0078125\n",
      "batch acurracy: 1.0/256 = 0.00390625\n",
      "batch acurracy: 0.0/256 = 0.0\n",
      "batch acurracy: 0.0/256 = 0.0\n",
      "batch acurracy: 3.0/256 = 0.01171875\n",
      "batch acurracy: 0.0/256 = 0.0\n",
      "batch acurracy: 0.0/256 = 0.0\n",
      "batch acurracy: 1.0/256 = 0.00390625\n",
      "batch acurracy: 1.0/256 = 0.00390625\n",
      "batch acurracy: 0.0/256 = 0.0\n",
      "batch acurracy: 0.0/256 = 0.0\n",
      "batch acurracy: 0.0/256 = 0.0\n",
      "batch acurracy: 2.0/256 = 0.0078125\n",
      "batch acurracy: 1.0/256 = 0.00390625\n",
      "batch acurracy: 0.0/256 = 0.0\n",
      "batch acurracy: 1.0/256 = 0.00390625\n",
      "batch acurracy: 1.0/256 = 0.00390625\n",
      "batch acurracy: 1.0/256 = 0.00390625\n",
      "batch acurracy: 1.0/256 = 0.00390625\n",
      "batch acurracy: 0.0/256 = 0.0\n",
      "batch acurracy: 1.0/256 = 0.00390625\n",
      "batch acurracy: 1.0/256 = 0.00390625\n",
      "batch acurracy: 0.0/256 = 0.0\n",
      "batch acurracy: 2.0/256 = 0.0078125\n",
      "batch acurracy: 0.0/16 = 0.0\n"
     ]
    }
   ],
   "source": [
    "learn.fit(4,lr.lr_steep)"
   ]
  },
  {
   "cell_type": "markdown",
   "metadata": {},
   "source": [
    "So according to that run, batch accuracy was very bad, but if we manually calculate our accuracy again, the accuracy shoots up seemingly showing that simple_net's parameters improved even though the learning loop didn't reflect that"
   ]
  },
  {
   "cell_type": "code",
   "execution_count": 20,
   "metadata": {},
   "outputs": [
    {
     "name": "stdout",
     "output_type": "stream",
     "text": [
      "batch acurracy: 215.0/256 = 0.83984375\n"
     ]
    },
    {
     "data": {
      "text/plain": [
       "tensor(0.8398)"
      ]
     },
     "execution_count": 20,
     "metadata": {},
     "output_type": "execute_result"
    }
   ],
   "source": [
    "batch_accuracy( simple_net(batch[0]), batch[1] )"
   ]
  },
  {
   "cell_type": "code",
   "execution_count": 21,
   "metadata": {},
   "outputs": [
    {
     "data": {
      "text/plain": [
       "(tensor([7, 8, 1, 8, 5, 2, 6, 1, 0, 8, 2, 1, 0, 5, 5, 2, 2, 2, 6, 6, 1, 8, 0, 0, 4, 2, 7, 6, 3, 3, 0, 6, 7, 4, 1, 1, 1, 2, 2, 7, 1, 1, 1, 3, 5, 4, 1, 7, 2, 2, 8, 3, 2, 1, 2, 7, 6, 3, 8, 8, 2, 8, 5, 6,\n",
       "         3, 7, 0, 7, 1, 7, 1, 4, 6, 4, 1, 5, 2, 8, 6, 8, 1, 6, 7, 2, 0, 7, 3, 7, 1, 2, 1, 7, 8, 4, 3, 2, 3, 0, 4, 1, 3, 6, 5, 4, 6, 0, 2, 7, 4, 4, 6, 3, 7, 3, 7, 4, 4, 6, 6, 5, 1, 0, 8, 6, 4, 0, 1, 8,\n",
       "         1, 6, 3, 3, 4, 3, 6, 1, 7, 7, 2, 5, 8, 3, 2, 8, 5, 4, 6, 1, 6, 7, 1, 2, 8, 5, 2, 5, 1, 0, 2, 5, 5, 3, 1, 0, 4, 3, 4, 0, 4, 2, 6, 5, 6, 7, 1, 2, 1, 2, 5, 3, 7, 2, 4, 2, 7, 4, 0, 6, 4, 6, 2, 7,\n",
       "         2, 0, 4, 5, 5, 7, 5, 8, 6, 3, 2, 7, 0, 0, 4, 5, 2, 7, 8, 0, 5, 0, 7, 6, 1, 3, 3, 7, 7, 8, 5, 5, 0, 1, 4, 2, 3, 7, 7, 2, 5, 7, 3, 8, 5, 7, 1, 8, 7, 3, 5, 0, 7, 3, 3, 4, 0, 4, 0, 2, 4, 3, 6, 6]),\n",
       " tensor([7, 8, 1, 8, 5, 2, 6, 1, 3, 8, 2, 1, 0, 5, 5, 2, 2, 2, 6, 6, 9, 8, 0, 0, 4, 2, 7, 6, 3, 5, 0, 6, 7, 4, 1, 1, 1, 2, 2, 7, 1, 1, 1, 3, 5, 4, 1, 7, 2, 2, 8, 3, 2, 1, 2, 9, 6, 3, 8, 8, 2, 8, 5, 6,\n",
       "         3, 7, 0, 7, 1, 7, 1, 4, 6, 4, 1, 3, 2, 8, 6, 8, 1, 6, 7, 2, 0, 9, 3, 7, 1, 2, 1, 7, 8, 4, 3, 7, 3, 0, 4, 1, 3, 6, 5, 4, 6, 0, 2, 7, 9, 9, 6, 3, 7, 3, 7, 9, 4, 6, 6, 5, 1, 0, 8, 2, 9, 0, 1, 8,\n",
       "         1, 6, 3, 3, 4, 5, 6, 1, 9, 3, 2, 5, 8, 3, 2, 5, 3, 9, 6, 1, 6, 7, 1, 8, 8, 5, 2, 5, 1, 0, 2, 5, 5, 3, 1, 5, 4, 3, 4, 0, 4, 3, 6, 5, 5, 7, 1, 2, 1, 5, 8, 3, 7, 2, 4, 2, 7, 2, 0, 6, 9, 6, 2, 7,\n",
       "         8, 0, 4, 5, 5, 7, 5, 8, 6, 3, 2, 9, 0, 0, 9, 5, 2, 9, 8, 0, 5, 0, 9, 6, 7, 3, 3, 7, 9, 4, 5, 5, 0, 1, 9, 2, 3, 7, 9, 2, 5, 7, 3, 2, 5, 7, 1, 8, 7, 3, 5, 0, 7, 3, 5, 9, 0, 9, 0, 2, 7, 3, 6, 6]))"
      ]
     },
     "execution_count": 21,
     "metadata": {},
     "output_type": "execute_result"
    }
   ],
   "source": [
    "simple_net( batch[0] ).argmax(1),batch[1].argmax(1)"
   ]
  },
  {
   "cell_type": "markdown",
   "metadata": {},
   "source": [
    "Learn still doesn't reflect the improvement though"
   ]
  },
  {
   "cell_type": "code",
   "execution_count": 22,
   "metadata": {},
   "outputs": [
    {
     "data": {
      "text/html": [
       "<table border=\"1\" class=\"dataframe\">\n",
       "  <thead>\n",
       "    <tr style=\"text-align: left;\">\n",
       "      <th>epoch</th>\n",
       "      <th>train_loss</th>\n",
       "      <th>valid_loss</th>\n",
       "      <th>batch_accuracy</th>\n",
       "      <th>time</th>\n",
       "    </tr>\n",
       "  </thead>\n",
       "  <tbody>\n",
       "    <tr>\n",
       "      <td>0</td>\n",
       "      <td>0.034108</td>\n",
       "      <td>0.199311</td>\n",
       "      <td>0.003200</td>\n",
       "      <td>00:01</td>\n",
       "    </tr>\n",
       "  </tbody>\n",
       "</table>"
      ],
      "text/plain": [
       "<IPython.core.display.HTML object>"
      ]
     },
     "metadata": {},
     "output_type": "display_data"
    },
    {
     "name": "stdout",
     "output_type": "stream",
     "text": [
      "batch acurracy: 2.0/256 = 0.0078125\n",
      "batch acurracy: 0.0/256 = 0.0\n",
      "batch acurracy: 1.0/256 = 0.00390625\n",
      "batch acurracy: 2.0/256 = 0.0078125\n",
      "batch acurracy: 1.0/256 = 0.00390625\n",
      "batch acurracy: 0.0/256 = 0.0\n",
      "batch acurracy: 2.0/256 = 0.0078125\n",
      "batch acurracy: 1.0/256 = 0.00390625\n",
      "batch acurracy: 0.0/256 = 0.0\n",
      "batch acurracy: 0.0/256 = 0.0\n",
      "batch acurracy: 0.0/256 = 0.0\n",
      "batch acurracy: 1.0/256 = 0.00390625\n",
      "batch acurracy: 1.0/256 = 0.00390625\n",
      "batch acurracy: 0.0/256 = 0.0\n",
      "batch acurracy: 3.0/256 = 0.01171875\n",
      "batch acurracy: 1.0/256 = 0.00390625\n",
      "batch acurracy: 0.0/256 = 0.0\n",
      "batch acurracy: 1.0/256 = 0.00390625\n",
      "batch acurracy: 1.0/256 = 0.00390625\n",
      "batch acurracy: 0.0/256 = 0.0\n",
      "batch acurracy: 0.0/256 = 0.0\n",
      "batch acurracy: 0.0/256 = 0.0\n",
      "batch acurracy: 0.0/256 = 0.0\n",
      "batch acurracy: 1.0/256 = 0.00390625\n",
      "batch acurracy: 0.0/256 = 0.0\n",
      "batch acurracy: 2.0/256 = 0.0078125\n",
      "batch acurracy: 2.0/256 = 0.0078125\n",
      "batch acurracy: 1.0/256 = 0.00390625\n",
      "batch acurracy: 1.0/256 = 0.00390625\n",
      "batch acurracy: 1.0/256 = 0.00390625\n",
      "batch acurracy: 0.0/256 = 0.0\n",
      "batch acurracy: 1.0/256 = 0.00390625\n",
      "batch acurracy: 2.0/256 = 0.0078125\n",
      "batch acurracy: 2.0/256 = 0.0078125\n",
      "batch acurracy: 0.0/256 = 0.0\n",
      "batch acurracy: 0.0/256 = 0.0\n",
      "batch acurracy: 0.0/256 = 0.0\n",
      "batch acurracy: 1.0/256 = 0.00390625\n",
      "batch acurracy: 1.0/256 = 0.00390625\n",
      "batch acurracy: 0.0/16 = 0.0\n"
     ]
    }
   ],
   "source": [
    "learn.fit(1,lr.lr_steep)"
   ]
  },
  {
   "cell_type": "markdown",
   "metadata": {},
   "source": [
    "Resetting the model to show the accuracy dropping back to default"
   ]
  },
  {
   "cell_type": "code",
   "execution_count": 23,
   "metadata": {},
   "outputs": [],
   "source": [
    "simple_net = nn.Sequential(\n",
    "    nn.Linear(28*28,30),\n",
    "    nn.ReLU(),\n",
    "    nn.Linear(30,10),\n",
    "    nn.Softmax(dim=1)\n",
    ")"
   ]
  },
  {
   "cell_type": "code",
   "execution_count": 24,
   "metadata": {},
   "outputs": [
    {
     "name": "stdout",
     "output_type": "stream",
     "text": [
      "batch acurracy: 28.0/256 = 0.109375\n"
     ]
    },
    {
     "data": {
      "text/plain": [
       "tensor(0.1094)"
      ]
     },
     "execution_count": 24,
     "metadata": {},
     "output_type": "execute_result"
    }
   ],
   "source": [
    "batch_accuracy( simple_net(batch[0]), batch[1] )"
   ]
  },
  {
   "cell_type": "code",
   "execution_count": null,
   "metadata": {},
   "outputs": [],
   "source": []
  }
 ],
 "metadata": {
  "kernelspec": {
   "display_name": "Python 3",
   "language": "python",
   "name": "python3"
  },
  "language_info": {
   "codemirror_mode": {
    "name": "ipython",
    "version": 3
   },
   "file_extension": ".py",
   "mimetype": "text/x-python",
   "name": "python",
   "nbconvert_exporter": "python",
   "pygments_lexer": "ipython3",
   "version": "3.8.6"
  }
 },
 "nbformat": 4,
 "nbformat_minor": 4
}
